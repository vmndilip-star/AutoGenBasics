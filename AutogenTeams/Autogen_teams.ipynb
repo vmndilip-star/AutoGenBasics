{
 "cells": [
  {
   "cell_type": "markdown",
   "id": "4cfcafc6",
   "metadata": {},
   "source": [
    "Agents In Teams"
   ]
  },
  {
   "cell_type": "code",
   "execution_count": null,
   "id": "e0bbb50c",
   "metadata": {},
   "outputs": [],
   "source": []
  }
 ],
 "metadata": {
  "language_info": {
   "name": "python"
  }
 },
 "nbformat": 4,
 "nbformat_minor": 5
}
