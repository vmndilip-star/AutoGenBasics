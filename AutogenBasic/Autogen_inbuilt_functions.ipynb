{
 "cells": [
  {
   "cell_type": "code",
   "execution_count": 2,
   "id": "c3eb817a",
   "metadata": {},
   "outputs": [
    {
     "name": "stderr",
     "output_type": "stream",
     "text": [
      "python-dotenv could not parse statement starting at line 5\n",
      "python-dotenv could not parse statement starting at line 6\n"
     ]
    }
   ],
   "source": [
    "import asyncio\n",
    "from autogen_agentchat.agents import AssistantAgent\n",
    "from autogen_ext.models.openai import OpenAIChatCompletionClient\n",
    "from autogen_core.tools import FunctionTool\n",
    "import os\n",
    "from dotenv import load_dotenv\n",
    "load_dotenv()\n",
    "api_key=os.getenv(\"OPENAI_API_KEY\")\n",
    "if not api_key:\n",
    "    raise ValueError(\"OPENAI_API_KEY environment variable not set\")"
   ]
  },
  {
   "cell_type": "code",
   "execution_count": 3,
   "id": "ffd59235",
   "metadata": {},
   "outputs": [],
   "source": [
    "model_client=OpenAIChatCompletionClient(model='gpt-4o',api_key=api_key)\n"
   ]
  },
  {
   "cell_type": "markdown",
   "id": "b1be0db2",
   "metadata": {},
   "source": [
    "{\n",
    "  \"fact\": \"In just 7 years, one un-spayed female cat and one un-neutered male cat and their offspring can result in 420,000 kittens.\",\n",
    "  \"length\": 121\n",
    "}"
   ]
  },
  {
   "cell_type": "code",
   "execution_count": 4,
   "id": "6a75261b",
   "metadata": {},
   "outputs": [],
   "source": [
    "schema={\n",
    "    \"type\": \"object\",\n",
    "    \"properties\": {\n",
    "        \"fact\": {\n",
    "            \"type\": \"string\",\n",
    "            \"description\": \"the random cat fact\"\n",
    "        },\n",
    "        \"length\": {\n",
    "            \"type\": \"integer\",\n",
    "            \"description\": \"the length of the cat fact\"\n",
    "        }\n",
    "    },\n",
    "    \"required\": [\"fact\", \"length\"],\n",
    "}"
   ]
  },
  {
   "cell_type": "code",
   "execution_count": null,
   "id": "2870d6f7",
   "metadata": {},
   "outputs": [],
   "source": [
    "http_tool = HttpTool(\n",
    "    name=\"cat_facts_api\",\n",
    "    description=\"get a cool cat fact\",\n",
    "    scheme=\"https\",\n",
    "    host=\"catfact.ninja\",\n",
    "    port=443,\n",
    "    path=\"/fact\",\n",
    "    method=\"GET\",\n",
    "    return_type=\"json\",\n",
    "    json_schema=,\n",
    ")"
   ]
  }
 ],
 "metadata": {
  "kernelspec": {
   "display_name": "autogen",
   "language": "python",
   "name": "python3"
  },
  "language_info": {
   "codemirror_mode": {
    "name": "ipython",
    "version": 3
   },
   "file_extension": ".py",
   "mimetype": "text/x-python",
   "name": "python",
   "nbconvert_exporter": "python",
   "pygments_lexer": "ipython3",
   "version": "3.11.13"
  }
 },
 "nbformat": 4,
 "nbformat_minor": 5
}
