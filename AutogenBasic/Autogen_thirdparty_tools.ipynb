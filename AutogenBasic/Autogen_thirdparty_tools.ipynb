{
 "cells": [
  {
   "cell_type": "code",
   "execution_count": 38,
   "id": "cb5a270b",
   "metadata": {},
   "outputs": [],
   "source": [
    "import asyncio\n",
    "from autogen_agentchat.agents import AssistantAgent\n",
    "from autogen_ext.models.openai import OpenAIChatCompletionClient\n",
    "from autogen_core.tools import FunctionTool\n",
    "import os\n",
    "from autogen_core.tools import FunctionTool\n",
    "from dotenv import load_dotenv\n",
    "\n",
    "from langchain_community.utilities import GoogleSerperAPIWrapper\n",
    "\n",
    "from autogen_ext.tools.http import HttpTool"
   ]
  },
  {
   "cell_type": "code",
   "execution_count": 39,
   "id": "c58c093d",
   "metadata": {},
   "outputs": [
    {
     "name": "stderr",
     "output_type": "stream",
     "text": [
      "python-dotenv could not parse statement starting at line 5\n",
      "python-dotenv could not parse statement starting at line 6\n"
     ]
    }
   ],
   "source": [
    "load_dotenv()\n",
    "api_key = os.getenv(\"OPENAI_API_KEY\")\n",
    "if not api_key:\n",
    "    raise ValueError(\"Please set the OPENAI_API_KEY environment variable.\")\n",
    "\n",
    "model_client=OpenAIChatCompletionClient(model='gpt-4o',api_key=api_key)\n",
    "\n",
    "serper=os.environ['SERPER_API_KEY']"
   ]
  },
  {
   "cell_type": "code",
   "execution_count": 40,
   "id": "944eac17",
   "metadata": {},
   "outputs": [],
   "source": [
    "search_tool_wrapper = GoogleSerperAPIWrapper(type='search')"
   ]
  },
  {
   "cell_type": "code",
   "execution_count": 41,
   "id": "f2d0a579",
   "metadata": {},
   "outputs": [],
   "source": [
    "def search_web(query:str) ->str:\n",
    "    \"\"\"Search the web for the given query and return the results.\"\"\"\n",
    "\n",
    "    if (query == 'ipl'):\n",
    "        return 'IPL is Indian Premier League, a professional Twenty20 cricket league in India.' # Mocking the call\n",
    "    try:\n",
    "        results = search_tool_wrapper.run(query)\n",
    "        return results\n",
    "    except Exception as e:\n",
    "        print(f\"Error occurred while searching the web: {e}\")\n",
    "        return \"No results found.\""
   ]
  },
  {
   "cell_type": "code",
   "execution_count": 42,
   "id": "b7ba5e09",
   "metadata": {},
   "outputs": [],
   "source": [
    "search_agent = AssistantAgent(\n",
    "    name=\"SearchAgent\",\n",
    "    model_client=model_client,\n",
    "    tools=[search_web],\n",
    "    description=\"An agent that can search the web for information.\",\n",
    "    system_message=\"You are a helpful assistant that can search the web for information using the search_web tool.\" \\\n",
    "    \"Please make sure that you use the search_web tool to find information before you return the answer.\" \\\n",
    "    \"don't send the year in query, rather use latest or recently etc.\",\n",
    "    reflect_on_tool_use=True,\n",
    ")"
   ]
  },
  {
   "cell_type": "code",
   "execution_count": 43,
   "id": "1ba4b848",
   "metadata": {},
   "outputs": [],
   "source": [
    "async def run_serper_search():\n",
    "    \"\"\"Run the search agent with a sample query.\"\"\"\n",
    "    query = \"Who won the 2025 ipl ?\" \n",
    "    print(f\"Querying: {query}\")\n",
    "\n",
    "    result = await search_agent.run(task=query)\n",
    "    print(result.messages[-1].content)\n",
    "    "
   ]
  },
  {
   "cell_type": "code",
   "execution_count": 44,
   "id": "61c63b3c",
   "metadata": {},
   "outputs": [
    {
     "name": "stdout",
     "output_type": "stream",
     "text": [
      "Querying: Who won the 2025 ipl ?\n",
      "Royal Challengers Bengaluru won the IPL 2025, defeating Punjab Kings by 6 runs in the final to claim their maiden title.\n"
     ]
    }
   ],
   "source": [
    "await run_serper_search()"
   ]
  }
 ],
 "metadata": {
  "kernelspec": {
   "display_name": "autogen",
   "language": "python",
   "name": "python3"
  },
  "language_info": {
   "codemirror_mode": {
    "name": "ipython",
    "version": 3
   },
   "file_extension": ".py",
   "mimetype": "text/x-python",
   "name": "python",
   "nbconvert_exporter": "python",
   "pygments_lexer": "ipython3",
   "version": "3.11.13"
  }
 },
 "nbformat": 4,
 "nbformat_minor": 5
}
