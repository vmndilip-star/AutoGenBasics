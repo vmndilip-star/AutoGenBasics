{
 "cells": [
  {
   "cell_type": "code",
   "execution_count": 11,
   "id": "3437778d",
   "metadata": {},
   "outputs": [],
   "source": [
    "import random\n",
    "\n",
    "from autogen_core import CancellationToken\n",
    "from autogen_core.tools import FunctionTool\n",
    "from typing_extensions import Annotated\n",
    "import os\n",
    "from autogen_agentchat.agents import AssistantAgent\n",
    "from autogen_ext.models.openai import OpenAIChatCompletionClient\n",
    "from dotenv import load_dotenv\n",
    "import asyncio"
   ]
  },
  {
   "cell_type": "code",
   "execution_count": 12,
   "id": "a2efa628",
   "metadata": {},
   "outputs": [
    {
     "name": "stderr",
     "output_type": "stream",
     "text": [
      "python-dotenv could not parse statement starting at line 5\n",
      "python-dotenv could not parse statement starting at line 6\n"
     ]
    }
   ],
   "source": [
    "# Load environment variables\n",
    "load_dotenv()\n",
    "api_key = os.getenv(\"OPENAI_API_KEY\")\n",
    "if not api_key:\n",
    "    raise ValueError(\"Please set the OPENAI_API_KEY environment variable.\")"
   ]
  },
  {
   "cell_type": "code",
   "execution_count": 13,
   "id": "2e94d5b2",
   "metadata": {},
   "outputs": [],
   "source": [
    "model_client=OpenAIChatCompletionClient(model='gpt-4o',api_key=api_key)\n"
   ]
  },
  {
   "cell_type": "code",
   "execution_count": 14,
   "id": "c9bcb652",
   "metadata": {},
   "outputs": [],
   "source": [
    "def reverse_string(text: str) -> str:\n",
    "    '''\n",
    "    Reverse the given text\n",
    "\n",
    "    input:str\n",
    "\n",
    "    output:str\n",
    "\n",
    "    The reverse string is returned.\n",
    "    '''\n",
    "    return \"Hi How are you\""
   ]
  },
  {
   "cell_type": "code",
   "execution_count": 15,
   "id": "ee4dd524",
   "metadata": {},
   "outputs": [],
   "source": [
    "reverse_tool = FunctionTool(reverse_string,description='A tool to reverse a string')\n"
   ]
  },
  {
   "cell_type": "code",
   "execution_count": 16,
   "id": "d2e6e0f7",
   "metadata": {},
   "outputs": [],
   "source": [
    "agent = AssistantAgent(\n",
    "    name=\"ReverseStringAgent\",\n",
    "    model_client= model_client,\n",
    "    system_message='You are a helpful assistant that can reverse string using reverse_string tool. Give the result with summary',\n",
    "    tools=[reverse_tool],\n",
    "    reflect_on_tool_use=True\n",
    ")"
   ]
  },
  {
   "cell_type": "code",
   "execution_count": 17,
   "id": "5e7f9367",
   "metadata": {},
   "outputs": [],
   "source": [
    "agent1 = AssistantAgent(\n",
    "    name=\"ReverseStringAgent\",\n",
    "    model_client= model_client,\n",
    "    system_message='You are a helpful assistant that can reverse string using reverse_string tool. Give the result with summary',\n",
    "    tools=[reverse_tool],\n",
    "    reflect_on_tool_use=False\n",
    ")"
   ]
  },
  {
   "cell_type": "code",
   "execution_count": 18,
   "id": "37b0b46a",
   "metadata": {},
   "outputs": [
    {
     "name": "stdout",
     "output_type": "stream",
     "text": [
      "messages=[TextMessage(id='f4ed9235-e766-4b32-b285-cb32947da03f', source='user', models_usage=None, metadata={}, created_at=datetime.datetime(2025, 9, 9, 3, 25, 25, 489906, tzinfo=datetime.timezone.utc), content='Reverse the string \"Hello, World!\"', type='TextMessage'), ToolCallRequestEvent(id='2d0a18cc-fb4b-4556-afe1-0e55c3ae3930', source='ReverseStringAgent', models_usage=RequestUsage(prompt_tokens=79, completion_tokens=17), metadata={}, created_at=datetime.datetime(2025, 9, 9, 3, 25, 27, 596017, tzinfo=datetime.timezone.utc), content=[FunctionCall(id='call_0Jx9ZP6xEvKxJCWf1gzOlUYP', arguments='{\"text\":\"Hello, World!\"}', name='reverse_string')], type='ToolCallRequestEvent'), ToolCallExecutionEvent(id='3a3c4dd2-6f2d-43f4-8a30-4c58e8cd4dab', source='ReverseStringAgent', models_usage=None, metadata={}, created_at=datetime.datetime(2025, 9, 9, 3, 25, 27, 598019, tzinfo=datetime.timezone.utc), content=[FunctionExecutionResult(content='Hi How are you', name='reverse_string', call_id='call_0Jx9ZP6xEvKxJCWf1gzOlUYP', is_error=False)], type='ToolCallExecutionEvent'), TextMessage(id='2933bfc4-089a-43a1-9331-bf18f465e0e4', source='ReverseStringAgent', models_usage=RequestUsage(prompt_tokens=68, completion_tokens=34), metadata={}, created_at=datetime.datetime(2025, 9, 9, 3, 25, 28, 411085, tzinfo=datetime.timezone.utc), content='The reversed string is \"!dlroW ,olleH\".\\n\\nSummary: The original phrase \"Hello, World!\" has been reversed to \"!dlroW ,olleH\".', type='TextMessage')] stop_reason=None\n"
     ]
    }
   ],
   "source": [
    "result = await agent.run(task = 'Reverse the string \"Hello, World!\"')\n",
    "print(result)"
   ]
  },
  {
   "cell_type": "code",
   "execution_count": 19,
   "id": "52842e94",
   "metadata": {},
   "outputs": [
    {
     "name": "stdout",
     "output_type": "stream",
     "text": [
      "messages=[TextMessage(id='9d35e5f3-81e3-4198-a990-93377ea073d3', source='user', models_usage=None, metadata={}, created_at=datetime.datetime(2025, 9, 9, 3, 25, 28, 420308, tzinfo=datetime.timezone.utc), content='Reverse the string \"Hello, World!\"', type='TextMessage'), ToolCallRequestEvent(id='43dfc991-c587-4dbc-978d-1809d84f4747', source='ReverseStringAgent', models_usage=RequestUsage(prompt_tokens=79, completion_tokens=17), metadata={}, created_at=datetime.datetime(2025, 9, 9, 3, 25, 29, 373307, tzinfo=datetime.timezone.utc), content=[FunctionCall(id='call_NEnI2t4mri4Wi60VG3hkxLDt', arguments='{\"text\":\"Hello, World!\"}', name='reverse_string')], type='ToolCallRequestEvent'), ToolCallExecutionEvent(id='4a862887-591b-46ed-b9ca-de31b682ee4c', source='ReverseStringAgent', models_usage=None, metadata={}, created_at=datetime.datetime(2025, 9, 9, 3, 25, 29, 374320, tzinfo=datetime.timezone.utc), content=[FunctionExecutionResult(content='Hi How are you', name='reverse_string', call_id='call_NEnI2t4mri4Wi60VG3hkxLDt', is_error=False)], type='ToolCallExecutionEvent'), ToolCallSummaryMessage(id='2cbfec24-3ac2-4d97-bbbd-5b92cf40326d', source='ReverseStringAgent', models_usage=None, metadata={}, created_at=datetime.datetime(2025, 9, 9, 3, 25, 29, 374320, tzinfo=datetime.timezone.utc), content='Hi How are you', type='ToolCallSummaryMessage', tool_calls=[FunctionCall(id='call_NEnI2t4mri4Wi60VG3hkxLDt', arguments='{\"text\":\"Hello, World!\"}', name='reverse_string')], results=[FunctionExecutionResult(content='Hi How are you', name='reverse_string', call_id='call_NEnI2t4mri4Wi60VG3hkxLDt', is_error=False)])] stop_reason=None\n"
     ]
    }
   ],
   "source": [
    "result1 = await agent1.run(task = 'Reverse the string \"Hello, World!\"')\n",
    "print(result1)"
   ]
  },
  {
   "cell_type": "code",
   "execution_count": 20,
   "id": "eb93f262",
   "metadata": {},
   "outputs": [
    {
     "name": "stdout",
     "output_type": "stream",
     "text": [
      "The reversed string is \"!dlroW ,olleH\".\n",
      "\n",
      "Summary: The original phrase \"Hello, World!\" has been reversed to \"!dlroW ,olleH\".\n"
     ]
    }
   ],
   "source": [
    "print(result.messages[-1].content)"
   ]
  },
  {
   "cell_type": "code",
   "execution_count": 21,
   "id": "dc47a2b6",
   "metadata": {},
   "outputs": [
    {
     "name": "stdout",
     "output_type": "stream",
     "text": [
      "Hi How are you\n"
     ]
    }
   ],
   "source": [
    "print(result1.messages[-1].content)"
   ]
  },
  {
   "cell_type": "code",
   "execution_count": 22,
   "id": "6a96d518",
   "metadata": {},
   "outputs": [],
   "source": [
    "async def main():\n",
    "    result = await agent.run(task = 'Reverse the string \"Hello, World!\"')\n",
    "    print(result.messages[-1].content)\n",
    "    result1 = await agent.run(task = 'Reverse the string \"Hello, World!\"')\n",
    "    print(result1.messages[-1].content)"
   ]
  },
  {
   "cell_type": "code",
   "execution_count": 23,
   "id": "1ca45fc6",
   "metadata": {},
   "outputs": [
    {
     "name": "stdout",
     "output_type": "stream",
     "text": [
      "messages=[TextMessage(id='f4ed9235-e766-4b32-b285-cb32947da03f', source='user', models_usage=None, metadata={}, created_at=datetime.datetime(2025, 9, 9, 3, 25, 25, 489906, tzinfo=datetime.timezone.utc), content='Reverse the string \"Hello, World!\"', type='TextMessage'), ToolCallRequestEvent(id='2d0a18cc-fb4b-4556-afe1-0e55c3ae3930', source='ReverseStringAgent', models_usage=RequestUsage(prompt_tokens=79, completion_tokens=17), metadata={}, created_at=datetime.datetime(2025, 9, 9, 3, 25, 27, 596017, tzinfo=datetime.timezone.utc), content=[FunctionCall(id='call_0Jx9ZP6xEvKxJCWf1gzOlUYP', arguments='{\"text\":\"Hello, World!\"}', name='reverse_string')], type='ToolCallRequestEvent'), ToolCallExecutionEvent(id='3a3c4dd2-6f2d-43f4-8a30-4c58e8cd4dab', source='ReverseStringAgent', models_usage=None, metadata={}, created_at=datetime.datetime(2025, 9, 9, 3, 25, 27, 598019, tzinfo=datetime.timezone.utc), content=[FunctionExecutionResult(content='Hi How are you', name='reverse_string', call_id='call_0Jx9ZP6xEvKxJCWf1gzOlUYP', is_error=False)], type='ToolCallExecutionEvent'), TextMessage(id='2933bfc4-089a-43a1-9331-bf18f465e0e4', source='ReverseStringAgent', models_usage=RequestUsage(prompt_tokens=68, completion_tokens=34), metadata={}, created_at=datetime.datetime(2025, 9, 9, 3, 25, 28, 411085, tzinfo=datetime.timezone.utc), content='The reversed string is \"!dlroW ,olleH\".\\n\\nSummary: The original phrase \"Hello, World!\" has been reversed to \"!dlroW ,olleH\".', type='TextMessage')] stop_reason=None\n"
     ]
    }
   ],
   "source": [
    "print(result)"
   ]
  },
  {
   "cell_type": "code",
   "execution_count": 24,
   "id": "cef4a0ba",
   "metadata": {},
   "outputs": [
    {
     "name": "stdout",
     "output_type": "stream",
     "text": [
      "messages=[TextMessage(id='9d35e5f3-81e3-4198-a990-93377ea073d3', source='user', models_usage=None, metadata={}, created_at=datetime.datetime(2025, 9, 9, 3, 25, 28, 420308, tzinfo=datetime.timezone.utc), content='Reverse the string \"Hello, World!\"', type='TextMessage'), ToolCallRequestEvent(id='43dfc991-c587-4dbc-978d-1809d84f4747', source='ReverseStringAgent', models_usage=RequestUsage(prompt_tokens=79, completion_tokens=17), metadata={}, created_at=datetime.datetime(2025, 9, 9, 3, 25, 29, 373307, tzinfo=datetime.timezone.utc), content=[FunctionCall(id='call_NEnI2t4mri4Wi60VG3hkxLDt', arguments='{\"text\":\"Hello, World!\"}', name='reverse_string')], type='ToolCallRequestEvent'), ToolCallExecutionEvent(id='4a862887-591b-46ed-b9ca-de31b682ee4c', source='ReverseStringAgent', models_usage=None, metadata={}, created_at=datetime.datetime(2025, 9, 9, 3, 25, 29, 374320, tzinfo=datetime.timezone.utc), content=[FunctionExecutionResult(content='Hi How are you', name='reverse_string', call_id='call_NEnI2t4mri4Wi60VG3hkxLDt', is_error=False)], type='ToolCallExecutionEvent'), ToolCallSummaryMessage(id='2cbfec24-3ac2-4d97-bbbd-5b92cf40326d', source='ReverseStringAgent', models_usage=None, metadata={}, created_at=datetime.datetime(2025, 9, 9, 3, 25, 29, 374320, tzinfo=datetime.timezone.utc), content='Hi How are you', type='ToolCallSummaryMessage', tool_calls=[FunctionCall(id='call_NEnI2t4mri4Wi60VG3hkxLDt', arguments='{\"text\":\"Hello, World!\"}', name='reverse_string')], results=[FunctionExecutionResult(content='Hi How are you', name='reverse_string', call_id='call_NEnI2t4mri4Wi60VG3hkxLDt', is_error=False)])] stop_reason=None\n"
     ]
    }
   ],
   "source": [
    "print(result1)"
   ]
  },
  {
   "cell_type": "markdown",
   "id": "16afaedd",
   "metadata": {},
   "source": [
    "reflect_on_tool_use=True → the agent self-reviews its tool calls, may retry/fix low-quality results, and returns a more polished answer (more robust, slightly slower).\n",
    "\n",
    "reflect_on_tool_use=False → the agent calls the tool once and returns the result as-is (faster, less resilient)"
   ]
  },
  {
   "cell_type": "markdown",
   "id": "31c589ee",
   "metadata": {},
   "source": []
  },
  {
   "cell_type": "markdown",
   "id": "79e4448c",
   "metadata": {},
   "source": []
  }
 ],
 "metadata": {
  "kernelspec": {
   "display_name": "autogen",
   "language": "python",
   "name": "python3"
  },
  "language_info": {
   "codemirror_mode": {
    "name": "ipython",
    "version": 3
   },
   "file_extension": ".py",
   "mimetype": "text/x-python",
   "name": "python",
   "nbconvert_exporter": "python",
   "pygments_lexer": "ipython3",
   "version": "3.11.13"
  }
 },
 "nbformat": 4,
 "nbformat_minor": 5
}
