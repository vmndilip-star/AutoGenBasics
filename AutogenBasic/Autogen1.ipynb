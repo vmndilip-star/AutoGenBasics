{
 "cells": [
  {
   "cell_type": "code",
   "execution_count": 54,
   "id": "3437778d",
   "metadata": {},
   "outputs": [],
   "source": [
    "import random\n",
    "\n",
    "from autogen_core import CancellationToken\n",
    "from autogen_core.tools import FunctionTool\n",
    "from typing_extensions import Annotated\n",
    "import os\n",
    "from autogen_agentchat.agents import AssistantAgent\n",
    "from autogen_ext.models.openai import OpenAIChatCompletionClient\n",
    "from dotenv import load_dotenv\n",
    "import asyncio"
   ]
  },
  {
   "cell_type": "code",
   "execution_count": 55,
   "id": "a2efa628",
   "metadata": {},
   "outputs": [
    {
     "name": "stderr",
     "output_type": "stream",
     "text": [
      "python-dotenv could not parse statement starting at line 5\n",
      "python-dotenv could not parse statement starting at line 6\n",
      "python-dotenv could not parse statement starting at line 6\n"
     ]
    }
   ],
   "source": [
    "# Load environment variables\n",
    "load_dotenv()\n",
    "api_key = os.getenv(\"OPENAI_API_KEY\")\n",
    "if not api_key:\n",
    "    raise ValueError(\"Please set the OPENAI_API_KEY environment variable.\")"
   ]
  },
  {
   "cell_type": "code",
   "execution_count": 56,
   "id": "2e94d5b2",
   "metadata": {},
   "outputs": [],
   "source": [
    "model_client=OpenAIChatCompletionClient(model='gpt-4o',api_key=api_key)\n"
   ]
  },
  {
   "cell_type": "code",
   "execution_count": 57,
   "id": "c9bcb652",
   "metadata": {},
   "outputs": [],
   "source": [
    "def reverse_string(text: str) -> str:\n",
    "    '''\n",
    "    Reverse the given text\n",
    "\n",
    "    input:str\n",
    "\n",
    "    output:str\n",
    "\n",
    "    The reverse string is returned.\n",
    "    '''\n",
    "    return \"Hi How are you\""
   ]
  },
  {
   "cell_type": "code",
   "execution_count": 58,
   "id": "ee4dd524",
   "metadata": {},
   "outputs": [],
   "source": [
    "reverse_tool = FunctionTool(reverse_string,description='A tool to reverse a string')\n"
   ]
  },
  {
   "cell_type": "code",
   "execution_count": 60,
   "id": "d2e6e0f7",
   "metadata": {},
   "outputs": [],
   "source": [
    "agent = AssistantAgent(\n",
    "    name=\"ReverseStringAgent\",\n",
    "    model_client= model_client,\n",
    "    system_message='You are a helpful assistant that can reverse string using reverse_string tool. Give the result with summary',\n",
    "    tools=[reverse_tool],\n",
    "    reflect_on_tool_use=True\n",
    ")"
   ]
  },
  {
   "cell_type": "code",
   "execution_count": 61,
   "id": "37b0b46a",
   "metadata": {},
   "outputs": [
    {
     "name": "stdout",
     "output_type": "stream",
     "text": [
      "messages=[TextMessage(id='0bf2407e-9dfb-4a54-83ae-83d93df2ccfd', source='user', models_usage=None, metadata={}, created_at=datetime.datetime(2025, 9, 4, 16, 57, 48, 643411, tzinfo=datetime.timezone.utc), content='Reverse the string \"Hello, World!\"', type='TextMessage'), ToolCallRequestEvent(id='d84bee76-9480-4c92-b327-83f13c89a75a', source='ReverseStringAgent', models_usage=RequestUsage(prompt_tokens=79, completion_tokens=17), metadata={}, created_at=datetime.datetime(2025, 9, 4, 16, 57, 49, 363984, tzinfo=datetime.timezone.utc), content=[FunctionCall(id='call_LIb0bxQT3fPmoR14EcpX5QXt', arguments='{\"text\":\"Hello, World!\"}', name='reverse_string')], type='ToolCallRequestEvent'), ToolCallExecutionEvent(id='a4393299-b830-4a87-b60b-907d3e058c55', source='ReverseStringAgent', models_usage=None, metadata={}, created_at=datetime.datetime(2025, 9, 4, 16, 57, 49, 364987, tzinfo=datetime.timezone.utc), content=[FunctionExecutionResult(content='Hi How are you', name='reverse_string', call_id='call_LIb0bxQT3fPmoR14EcpX5QXt', is_error=False)], type='ToolCallExecutionEvent'), TextMessage(id='05c77376-32dc-4ca6-af45-d10137f12016', source='ReverseStringAgent', models_usage=RequestUsage(prompt_tokens=68, completion_tokens=18), metadata={}, created_at=datetime.datetime(2025, 9, 4, 16, 57, 50, 158077, tzinfo=datetime.timezone.utc), content='The reversed string of \"Hello, World!\" is \"!dlroW ,olleH\".', type='TextMessage')] stop_reason=None\n"
     ]
    }
   ],
   "source": [
    "result = await agent.run(task = 'Reverse the string \"Hello, World!\"')\n",
    "print(result)"
   ]
  },
  {
   "cell_type": "code",
   "execution_count": 62,
   "id": "eb93f262",
   "metadata": {},
   "outputs": [
    {
     "name": "stdout",
     "output_type": "stream",
     "text": [
      "The reversed string of \"Hello, World!\" is \"!dlroW ,olleH\".\n"
     ]
    }
   ],
   "source": [
    "print(result.messages[-1].content)"
   ]
  },
  {
   "cell_type": "code",
   "execution_count": 63,
   "id": "6a96d518",
   "metadata": {},
   "outputs": [],
   "source": [
    "async def main():\n",
    "    result = await agent.run(task = 'Reverse the string \"Hello, World!\"')\n",
    "    print(result.messages[-1].content)"
   ]
  },
  {
   "cell_type": "code",
   "execution_count": 64,
   "id": "1ca45fc6",
   "metadata": {},
   "outputs": [
    {
     "name": "stdout",
     "output_type": "stream",
     "text": [
      "messages=[TextMessage(id='0bf2407e-9dfb-4a54-83ae-83d93df2ccfd', source='user', models_usage=None, metadata={}, created_at=datetime.datetime(2025, 9, 4, 16, 57, 48, 643411, tzinfo=datetime.timezone.utc), content='Reverse the string \"Hello, World!\"', type='TextMessage'), ToolCallRequestEvent(id='d84bee76-9480-4c92-b327-83f13c89a75a', source='ReverseStringAgent', models_usage=RequestUsage(prompt_tokens=79, completion_tokens=17), metadata={}, created_at=datetime.datetime(2025, 9, 4, 16, 57, 49, 363984, tzinfo=datetime.timezone.utc), content=[FunctionCall(id='call_LIb0bxQT3fPmoR14EcpX5QXt', arguments='{\"text\":\"Hello, World!\"}', name='reverse_string')], type='ToolCallRequestEvent'), ToolCallExecutionEvent(id='a4393299-b830-4a87-b60b-907d3e058c55', source='ReverseStringAgent', models_usage=None, metadata={}, created_at=datetime.datetime(2025, 9, 4, 16, 57, 49, 364987, tzinfo=datetime.timezone.utc), content=[FunctionExecutionResult(content='Hi How are you', name='reverse_string', call_id='call_LIb0bxQT3fPmoR14EcpX5QXt', is_error=False)], type='ToolCallExecutionEvent'), TextMessage(id='05c77376-32dc-4ca6-af45-d10137f12016', source='ReverseStringAgent', models_usage=RequestUsage(prompt_tokens=68, completion_tokens=18), metadata={}, created_at=datetime.datetime(2025, 9, 4, 16, 57, 50, 158077, tzinfo=datetime.timezone.utc), content='The reversed string of \"Hello, World!\" is \"!dlroW ,olleH\".', type='TextMessage')] stop_reason=None\n"
     ]
    }
   ],
   "source": [
    "print(result)"
   ]
  },
  {
   "cell_type": "markdown",
   "id": "31c589ee",
   "metadata": {},
   "source": []
  }
 ],
 "metadata": {
  "kernelspec": {
   "display_name": "autogen",
   "language": "python",
   "name": "python3"
  },
  "language_info": {
   "codemirror_mode": {
    "name": "ipython",
    "version": 3
   },
   "file_extension": ".py",
   "mimetype": "text/x-python",
   "name": "python",
   "nbconvert_exporter": "python",
   "pygments_lexer": "ipython3",
   "version": "3.11.13"
  }
 },
 "nbformat": 4,
 "nbformat_minor": 5
}
