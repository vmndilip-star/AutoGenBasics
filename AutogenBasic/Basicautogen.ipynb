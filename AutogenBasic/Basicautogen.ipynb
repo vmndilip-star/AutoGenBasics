{
 "cells": [
  {
   "cell_type": "code",
   "execution_count": 1,
   "id": "348d7fa6",
   "metadata": {},
   "outputs": [
    {
     "name": "stderr",
     "output_type": "stream",
     "text": [
      "python-dotenv could not parse statement starting at line 5\n",
      "python-dotenv could not parse statement starting at line 6\n"
     ]
    }
   ],
   "source": [
    "from autogen_agentchat.agents import AssistantAgent\n",
    "from autogen_ext.models.openai import OpenAIChatCompletionClient\n",
    "from dotenv import load_dotenv\n",
    "import os\n",
    "load_dotenv()\n",
    "api_key = os.getenv('OPENAI_API_KEY')"
   ]
  },
  {
   "cell_type": "code",
   "execution_count": 2,
   "id": "8095bdce",
   "metadata": {},
   "outputs": [],
   "source": [
    "model_client = OpenAIChatCompletionClient(model='gpt-4o',api_key=api_key)"
   ]
  },
  {
   "cell_type": "code",
   "execution_count": 3,
   "id": "35009514",
   "metadata": {},
   "outputs": [],
   "source": [
    "agent_1 = AssistantAgent(name='my_assistant',model_client=model_client)\n"
   ]
  },
  {
   "cell_type": "code",
   "execution_count": 4,
   "id": "a328610e",
   "metadata": {},
   "outputs": [],
   "source": [
    "result = await agent_1.run(task='Tell me something about India?')"
   ]
  },
  {
   "cell_type": "code",
   "execution_count": 5,
   "id": "f9cf069b",
   "metadata": {},
   "outputs": [
    {
     "data": {
      "text/plain": [
       "TaskResult(messages=[TextMessage(id='1ac3bb4c-e528-4751-86b1-af68f1622373', source='user', models_usage=None, metadata={}, created_at=datetime.datetime(2025, 9, 4, 17, 3, 20, 387419, tzinfo=datetime.timezone.utc), content='Tell me something about India?', type='TextMessage'), TextMessage(id='1dbbe654-e54a-4123-83be-b68fafd7ec61', source='my_assistant', models_usage=RequestUsage(prompt_tokens=42, completion_tokens=279), metadata={}, created_at=datetime.datetime(2025, 9, 4, 17, 3, 25, 363188, tzinfo=datetime.timezone.utc), content=\"India is a country located in South Asia and is the seventh-largest country by geographical area and the second-most populous country in the world, with over 1.4 billion people. It is known for its rich cultural heritage and diversity, marked by a multitude of languages, traditions, and religions. Hindi is the official language, with English also widely used for official and business purposes.\\n\\nThe capital of India is New Delhi, while its largest city is Mumbai. India is known for landmarks such as the Taj Mahal, a UNESCO World Heritage site. Its history spans multiple millennia, characterized by various dynasties and empires, including the Maurya, Gupta, Mughal, and British Empires, the latter of which led to its eventual independence in 1947.\\n\\nIndia has a diverse economy that ranges from traditional village farming to modern agriculture, handicrafts, a wide range of industries, and numerous services. The country has seen significant economic growth and development, positioning itself as a major player in the global arena.\\n\\nCulturally, India has made significant contributions to music, dance, art, architecture, and cuisine. Hinduism, Buddhism, Jainism, and Sikhism originated in India, and the country is also home to significant populations of Muslims, Christians, and other religious communities.\\n\\nOverall, India's diversity and its rapid development make it an important nation both within Asia and globally. TERMINATE\", type='TextMessage')], stop_reason=None)"
      ]
     },
     "execution_count": 5,
     "metadata": {},
     "output_type": "execute_result"
    }
   ],
   "source": [
    "result"
   ]
  },
  {
   "cell_type": "code",
   "execution_count": 6,
   "id": "9a1b89af",
   "metadata": {},
   "outputs": [],
   "source": [
    "result2 = await agent_1.run(task='What was my last question?')"
   ]
  },
  {
   "cell_type": "code",
   "execution_count": 7,
   "id": "5bb9af32",
   "metadata": {},
   "outputs": [
    {
     "data": {
      "text/plain": [
       "TaskResult(messages=[TextMessage(id='ded1b6ff-dcf0-4aec-b9f6-8895de7352a7', source='user', models_usage=None, metadata={}, created_at=datetime.datetime(2025, 9, 4, 17, 3, 25, 404973, tzinfo=datetime.timezone.utc), content='What was my last question?', type='TextMessage'), TextMessage(id='d3d49dc6-3e2d-49a9-8ca2-7f2fcc83e531', source='my_assistant', models_usage=RequestUsage(prompt_tokens=336, completion_tokens=14), metadata={}, created_at=datetime.datetime(2025, 9, 4, 17, 3, 26, 644099, tzinfo=datetime.timezone.utc), content='Your last question was: \"Tell me something about India?\" TERMINATE', type='TextMessage')], stop_reason=None)"
      ]
     },
     "execution_count": 7,
     "metadata": {},
     "output_type": "execute_result"
    }
   ],
   "source": [
    "result2"
   ]
  }
 ],
 "metadata": {
  "kernelspec": {
   "display_name": "autogen",
   "language": "python",
   "name": "python3"
  },
  "language_info": {
   "codemirror_mode": {
    "name": "ipython",
    "version": 3
   },
   "file_extension": ".py",
   "mimetype": "text/x-python",
   "name": "python",
   "nbconvert_exporter": "python",
   "pygments_lexer": "ipython3",
   "version": "3.11.13"
  }
 },
 "nbformat": 4,
 "nbformat_minor": 5
}
