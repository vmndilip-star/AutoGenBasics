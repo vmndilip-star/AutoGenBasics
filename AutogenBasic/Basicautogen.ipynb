{
 "cells": [
  {
   "cell_type": "code",
   "execution_count": null,
   "id": "348d7fa6",
   "metadata": {},
   "outputs": [
    {
     "name": "stderr",
     "output_type": "stream",
     "text": [
      "python-dotenv could not parse statement starting at line 5\n",
      "python-dotenv could not parse statement starting at line 6\n"
     ]
    }
   ],
   "source": [
    "from autogen_agentchat.agents import AssistantAgent\n",
    "from autogen_ext.models.openai import OpenAIChatCompletionClient\n",
    "from dotenv import load_dotenv\n",
    "import os\n",
    "load_dotenv()\n",
    "api_key = os.getenv('OPENAI_API_KEY')"
   ]
  },
  {
   "cell_type": "code",
   "execution_count": 5,
   "id": "8095bdce",
   "metadata": {},
   "outputs": [],
   "source": [
    "model_client = OpenAIChatCompletionClient(model='gpt-4o',api_key=api_key)"
   ]
  },
  {
   "cell_type": "code",
   "execution_count": 6,
   "id": "35009514",
   "metadata": {},
   "outputs": [],
   "source": [
    "agent_1 = AssistantAgent(name='my_assistant',model_client=model_client)\n"
   ]
  },
  {
   "cell_type": "code",
   "execution_count": 11,
   "id": "a328610e",
   "metadata": {},
   "outputs": [],
   "source": [
    "result = await agent_1.run(task='Tell me something about India?')"
   ]
  },
  {
   "cell_type": "code",
   "execution_count": 12,
   "id": "f9cf069b",
   "metadata": {},
   "outputs": [
    {
     "data": {
      "text/plain": [
       "TaskResult(messages=[TextMessage(id='c9923e18-95d8-4d50-a1a7-f2259f8ffaa5', source='user', models_usage=None, metadata={}, created_at=datetime.datetime(2025, 8, 30, 9, 17, 13, 902672, tzinfo=datetime.timezone.utc), content='Tell me something about India?', type='TextMessage'), TextMessage(id='2049295b-2ee6-4b24-8073-b5659d546ea6', source='my_assistant', models_usage=RequestUsage(prompt_tokens=214, completion_tokens=402), metadata={}, created_at=datetime.datetime(2025, 8, 30, 9, 17, 20, 476604, tzinfo=datetime.timezone.utc), content=\"India is a large and diverse country located in South Asia. It is known for its rich history, cultural diversity, and economic significance. Here are some key aspects about India:\\n\\n1. **Geography**: India is the seventh-largest country in the world by land area and has a diverse landscape that includes the Himalayan mountain range in the north, fertile plains, deserts, and a long coastline.\\n\\n2. **Population**: India is the second-most populous country in the world, with over 1.4 billion people. It is a multicultural society with a wide variety of languages, religions, and ethnic groups.\\n\\n3. **Languages and Culture**: India is home to 22 officially recognized languages, with Hindi and English being the most widely spoken. The country has a rich cultural heritage, including music, dance, art, and film industries, with Bollywood being one of the largest film producers globally.\\n\\n4. **Economy**: India has a mixed economy with agriculture, manufacturing, and services sectors. It is one of the world's fastest-growing large economies with significant advancements in technology and industry.\\n\\n5. **History**: India has a long history that includes the ancient Indus Valley Civilization, significant contributions during the medieval period, the Mughal Empire, and British colonial rule until it gained independence in 1947.\\n\\n6. **Government**: India operates as a federal parliamentary democratic republic. It has a President as the head of state and a Prime Minister as the head of government.\\n\\n7. **Festivals and Religion**: India is known for its vibrant festivals, such as Diwali, Holi, Eid, Christmas, and others. It is the birthplace of major world religions like Hinduism, Buddhism, Jainism, and Sikhism, with large populations of Muslims, Christians, and others as well.\\n\\nIndia's diversity and dynamic growth make it a fascinating and complex country with a significant impact on global affairs. If you want to know more specific information, feel free to ask! TERMINATE\", type='TextMessage')], stop_reason=None)"
      ]
     },
     "execution_count": 12,
     "metadata": {},
     "output_type": "execute_result"
    }
   ],
   "source": [
    "result"
   ]
  },
  {
   "cell_type": "code",
   "execution_count": 13,
   "id": "9a1b89af",
   "metadata": {},
   "outputs": [],
   "source": [
    "result2 = await agent_1.run(task='What was my last question?')"
   ]
  },
  {
   "cell_type": "code",
   "execution_count": null,
   "id": "5bb9af32",
   "metadata": {},
   "outputs": [
    {
     "data": {
      "text/plain": [
       "TaskResult(messages=[TextMessage(id='5a33bc43-b6ba-423a-a078-9e99d83a8ac9', source='user', models_usage=None, metadata={}, created_at=datetime.datetime(2025, 8, 30, 9, 17, 21, 790313, tzinfo=datetime.timezone.utc), content='What was my last question?', type='TextMessage'), TextMessage(id='4106ab77-fff5-48a8-9c47-4dc32126cf8f', source='my_assistant', models_usage=RequestUsage(prompt_tokens=631, completion_tokens=14), metadata={}, created_at=datetime.datetime(2025, 8, 30, 9, 17, 22, 777670, tzinfo=datetime.timezone.utc), content='Your last question was: \"Tell me something about India?\" TERMINATE', type='TextMessage')], stop_reason=None)"
      ]
     },
     "execution_count": 14,
     "metadata": {},
     "output_type": "execute_result"
    },
    {
     "ename": "",
     "evalue": "",
     "output_type": "error",
     "traceback": [
      "\u001b[1;31mThe Kernel crashed while executing code in the current cell or a previous cell. \n",
      "\u001b[1;31mPlease review the code in the cell(s) to identify a possible cause of the failure. \n",
      "\u001b[1;31mClick <a href='https://aka.ms/vscodeJupyterKernelCrash'>here</a> for more info. \n",
      "\u001b[1;31mView Jupyter <a href='command:jupyter.viewOutput'>log</a> for further details."
     ]
    }
   ],
   "source": [
    "result2"
   ]
  }
 ],
 "metadata": {
  "kernelspec": {
   "display_name": "autogen",
   "language": "python",
   "name": "python3"
  },
  "language_info": {
   "codemirror_mode": {
    "name": "ipython",
    "version": 3
   },
   "file_extension": ".py",
   "mimetype": "text/x-python",
   "name": "python",
   "nbconvert_exporter": "python",
   "pygments_lexer": "ipython3",
   "version": "3.11.13"
  }
 },
 "nbformat": 4,
 "nbformat_minor": 5
}
